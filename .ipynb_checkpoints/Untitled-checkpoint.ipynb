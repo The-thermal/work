{
 "cells": [
  {
   "cell_type": "code",
   "execution_count": 17,
   "metadata": {},
   "outputs": [
    {
     "ename": "SyntaxError",
     "evalue": "invalid character in identifier (<ipython-input-17-a4c0bae0423d>, line 31)",
     "output_type": "error",
     "traceback": [
      "\u001b[1;36m  File \u001b[1;32m\"<ipython-input-17-a4c0bae0423d>\"\u001b[1;36m, line \u001b[1;32m31\u001b[0m\n\u001b[1;33m    array.iloc[i,5]=get_coordinate(array.iloc[i,3].split(',',1)[1]，array.iloc[i,3].split(',',1)[0],500)\u001b[0m\n\u001b[1;37m                                                                       ^\u001b[0m\n\u001b[1;31mSyntaxError\u001b[0m\u001b[1;31m:\u001b[0m invalid character in identifier\n"
     ]
    }
   ],
   "source": [
    "from wind_condition import get_wind_1\n",
    "from trafic_condition import get_duration_1\n",
    "import gaussian_puff_function\n",
    "from gaussian_puff_function import shift_road\n",
    "from gaussian_puff_function import shift_coordinate\n",
    "from gaussian_puff_function import Gaussian_puff\n",
    "from gaussian_puff_function import vector_length\n",
    "import numpy as np\n",
    "import pandas as pd\n",
    "from scipy import stats\n",
    "from scipy.stats import norm\n",
    "import math\n",
    "\n",
    "array = pd.read_csv('position.csv',encoding= 'gbk')\n",
    "import math\n",
    "def get_coordinate(latitude,longitude,altitude):\n",
    "\tB=math.radians(latitude);\n",
    "\tL=math.radians(longitude);\n",
    "\tH=altitude;\n",
    "\tf=1/298.257223563;\n",
    "\tr=6378137;\n",
    "\tb=r*(1-f);\n",
    "\te=math.sqrt(2*f-f*f);\n",
    "\tN=r/math.sqrt(1-e*e*math.sin(B)*math.sin(B));\n",
    "\tdata =[(N+H)*math.cos(B)*math.cos(L),(N+H)*math.cos(B)*math.sin(L),(N*(1-e*e)+H)*math.sin(B)];\n",
    "\treturn data;\n",
    "\n",
    "print(array)\n",
    "print(array.iloc[0,3].split(',',1))\n",
    "\n",
    "for i in range(0,36):\n",
    "    array.iloc[i,5]=get_coordinate(array.iloc[i,3].split(',',1)[1]，array.iloc[i,3].split(',',1)[0],500)\n",
    "print(array) "
   ]
  },
  {
   "cell_type": "code",
   "execution_count": null,
   "metadata": {},
   "outputs": [],
   "source": []
  }
 ],
 "metadata": {
  "kernelspec": {
   "display_name": "Python 3",
   "language": "python",
   "name": "python3"
  },
  "language_info": {
   "codemirror_mode": {
    "name": "ipython",
    "version": 3
   },
   "file_extension": ".py",
   "mimetype": "text/x-python",
   "name": "python",
   "nbconvert_exporter": "python",
   "pygments_lexer": "ipython3",
   "version": "3.7.3"
  }
 },
 "nbformat": 4,
 "nbformat_minor": 2
}
