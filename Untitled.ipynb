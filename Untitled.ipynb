{
 "cells": [
  {
   "cell_type": "code",
   "execution_count": 24,
   "metadata": {},
   "outputs": [
    {
     "name": "stdout",
     "output_type": "stream",
     "text": [
      "-29062528.673503,236.293609 -29062527.879929,235.782469\n"
     ]
    }
   ],
   "source": [
    "from wind_condition import get_wind_1\n",
    "from trafic_condition import get_duration_1\n",
    "import gaussian_puff_function\n",
    "from gaussian_puff_function import shift_road\n",
    "from gaussian_puff_function import shift_coordinate\n",
    "from gaussian_puff_function import Gaussian_puff\n",
    "from gaussian_puff_function import vector_length\n",
    "import numpy as np\n",
    "import pandas as pd\n",
    "from scipy import stats\n",
    "from scipy.stats import norm\n",
    "import math\n",
    "\n",
    "array = pd.read_csv('position.csv',encoding= 'gbk')\n",
    "road_duration = pd.DataFrame (np.zeros((2,17)),index = (1,-1),columns = range(1,18),dtype=np.float64)\n",
    "road_length = pd.DataFrame (np.zeros((1,17)),columns = range(1,18),dtype=np.float64)\n",
    "OD_list_set = [[1,2],[2,1],[3,4],[4,3],[5,6],[6,5],[7,8],[8,7],[10,33],[33,10],[16,33],[33,16],[15,22],[22,15],[17,23],[23,17],[22,23],[23,22],[23,18],[18,23],[7,9],[9,7],[22,25],[25,22],[34,24],[24,34],[11,12],[13,14],[28,29],[26,27],[30,25],[31,32],[21,20],[19,35]]\n",
    "road_name_dic = {(1,1):0,(1,-1):1,(2,1):2,(2,-1):3,(3,1):4,(3,-1):5,(4,1):6,(4,-1):7,(5,1):8,(5,-1):9,(6,1):10,(6,-1):11,(7,1):12,(7,-1):13,(8,1):14,(8,-1):15,(9,1):16,(9,-1):17,(10,1):18,(10,-1):19,(11,1):20,(11,-1):21,(12,1):22,(12,-1):23,(13,1):24,(13,-1):25,(14,1):26,(14,-1):27,(15,1):28,(15,-1):29,(16,1):30,(16,-1):31,(17,1):32,(17,-1):33}\n",
    "\n",
    "\n",
    "\n",
    "def sys():\n",
    "    # if float(get_wind_1()[1]) == 0:\n",
    "    #     print('1')\n",
    "        \n",
    "    # else:\n",
    "    #     print(1)\n",
    "    #     print(array)\n",
    "    #print(array.iloc[0:35,4]) \n",
    "    shift_position = pd.DataFrame (np.zeros((2,35)),index = ('x','y'),columns = range(1,36),dtype=np.float64)\n",
    "    #print(shift_position)\n",
    "    for i in range(1,18):\n",
    "        squence = road_name_dic[(i,1)]\n",
    "        position_1 = OD_list_set[squence][0]\n",
    "        position_2 = OD_list_set[squence][1]\n",
    "        x1 = float(array.iloc[position_1-1,4].split(',',1)[0])\n",
    "        y1 = float(array.iloc[position_1-1,4].split(',',1)[1])\n",
    "        x2 = float(array.iloc[position_2-1,4].split(',',1)[0])\n",
    "        y2 = float(array.iloc[position_2-1,4].split(',',1)[1])\n",
    "        wind = get_wind_1()[0]\n",
    "#         print(position_1,x1,y1,position_2,x2,y2,wind)\n",
    "#         # shift_road(x1,y1,x2,y2,wind)\n",
    "        shift_position.loc['x',position_1] = shift_road(x1,y1,x2,y2,wind)[0]\n",
    "        shift_position.loc['y',position_1] = shift_road(x1,y1,x2,y2,wind)[1]\n",
    "        shift_position.loc['x',position_2]= shift_road(x1,y1,x2,y2,wind)[2]\n",
    "        shift_position.loc['y',position_2] = shift_road(x1,y1,x2,y2,wind)[3]\n",
    "    pd.set_option('display.max_columns', None)\n",
    "    \n",
    "print(array.iloc[0,4],array.iloc[1,4])"
   ]
  },
  {
   "cell_type": "code",
   "execution_count": null,
   "metadata": {},
   "outputs": [],
   "source": []
  }
 ],
 "metadata": {
  "kernelspec": {
   "display_name": "Python 3",
   "language": "python",
   "name": "python3"
  },
  "language_info": {
   "codemirror_mode": {
    "name": "ipython",
    "version": 3
   },
   "file_extension": ".py",
   "mimetype": "text/x-python",
   "name": "python",
   "nbconvert_exporter": "python",
   "pygments_lexer": "ipython3",
   "version": "3.7.3"
  }
 },
 "nbformat": 4,
 "nbformat_minor": 2
}
