{
 "cells": [
  {
   "cell_type": "code",
   "execution_count": 40,
   "metadata": {},
   "outputs": [
    {
     "name": "stdout",
     "output_type": "stream",
     "text": [
      "[-1333099.5084248905, 5327331.231515335, 3234024.638470233]\n",
      "[-1333496.7869309594, 5327315.339717858, 3233887.9480059445]\n",
      "[-1333056.1126499113, 5327374.126992584, 3233972.2182361386]\n",
      "[-1333474.3472203177, 5327370.584123177, 3233806.740362261]\n",
      "[-1333029.5621754306, 5327423.466674029, 3233902.353968401]\n",
      "[-1333461.0266552314, 5327415.353904258, 3233738.9353374364]\n",
      "[-1333008.7667007872, 5327587.653110846, 3233642.1891412144]\n",
      "[-1333288.0865212225, 5327508.149359582, 3233657.9121280815]\n",
      "[-1333341.6295698853, 5327609.017951718, 3233470.9054813585]\n",
      "[-1333364.8956533808, 5327608.63924945, 3233461.995483241]\n",
      "[-1333303.3844077974, 5327683.822298846, 3233364.14178468]\n",
      "[-1333535.350737893, 5327221.334437729, 3234025.9702218557]\n",
      "[-1333526.0284877568, 5327219.929536122, 3234032.0871782275]\n",
      "[-1333273.543371541, 5327707.150631545, 3233338.182984825]\n",
      "[-1333482.64992927, 5327435.975632382, 3233696.332252199]\n",
      "[-1333719.4189269769, 5327465.779725761, 3233550.5642736666]\n",
      "[-1333690.8671177432, 5327493.087619945, 3233517.5713902074]\n",
      "[-1333973.1467272998, 5327533.35396502, 3233336.0065018893]\n",
      "[-1334024.0696677743, 5327459.914849865, 3233435.3300323]\n",
      "[-1334032.8357877263, 5327454.758706791, 3233440.1760461247]\n",
      "[-1333906.7972086074, 5327658.968675423, 3233157.6004088023]\n",
      "[-1333834.236491199, 5327480.623473984, 3233479.228209619]\n",
      "[-1333845.733415259, 5327513.032373435, 3233421.4772175807]\n",
      "[-1333971.3383555876, 5327320.648513247, 3233684.8483155724]\n",
      "[-1334014.8298516073, 5327431.29411175, 3233485.9563984196]\n",
      "[-1333960.1215710212, 5327222.33367853, 3233850.3229650715]\n",
      "[-1333542.610874924, 5327212.535823089, 3234037.3929626616]\n",
      "[-1333539.5848686153, 5327219.347454503, 3234027.4871129645]\n",
      "[-1333962.7348692282, 5327230.011129645, 3233836.6895140656]\n",
      "[-1333969.3887993603, 5327229.808011361, 3233834.2954878733]\n",
      "[-1334044.0572295613, 5327413.347807592, 3233503.3488410274]\n",
      "[-1333989.849724114, 5327226.860738185, 3233830.734371734]\n",
      "[-1333565.1224224113, 5327618.769670248, 3233363.3944425937]\n",
      "[-1333760.9453931844, 5327275.02009705, 3233845.7154510976]\n",
      "[-1333895.0423752472, 5327660.850828181, 3233159.336939049]\n",
      "[-1333623.729390747, 5327477.461016553, 3233570.650175306]\n"
     ]
    }
   ],
   "source": [
    "from wind_condition import get_wind_1\n",
    "from trafic_condition import get_duration_1\n",
    "import gaussian_puff_function\n",
    "from gaussian_puff_function import shift_road\n",
    "from gaussian_puff_function import shift_coordinate\n",
    "from gaussian_puff_function import Gaussian_puff\n",
    "from gaussian_puff_function import vector_length\n",
    "import numpy as np\n",
    "import pandas as pd\n",
    "from scipy import stats\n",
    "from scipy.stats import norm\n",
    "import math\n",
    "\n",
    "array = pd.read_csv('position.csv',encoding= 'gbk')\n",
    "import math\n",
    "def get_coordinate(latitude,longitude,altitude):\n",
    "\tB=math.radians(latitude);\n",
    "\tL=math.radians(longitude);\n",
    "\tH=altitude;\n",
    "\tf=1/298.257223563;\n",
    "\tr=6378137;\n",
    "\tb=r*(1-f);\n",
    "\te=math.sqrt(2*f-f*f);\n",
    "\tN=r/math.sqrt(1-e*e*math.sin(B)*math.sin(B));\n",
    "\tdata =[(N+H)*math.cos(B)*math.cos(L),(N+H)*math.cos(B)*math.sin(L),(N*(1-e*e)+H)*math.sin(B)];\n",
    "\treturn data;\n",
    "array['new_colu'] = 12\n",
    "# print(array)\n",
    "# print(array.iloc[0,3].split(',',1))\n",
    "for i in range(0,36):\n",
    "     \n",
    "    print(get_coordinate(float(array.iloc[i,3].split(',',1)[1]),float(array.iloc[i,3].split(',',1)[0]),500))\n",
    "\n",
    "   "
   ]
  },
  {
   "cell_type": "code",
   "execution_count": 56,
   "metadata": {},
   "outputs": [
    {
     "name": "stdout",
     "output_type": "stream",
     "text": [
      "236.038039\n",
      "-29062528.673503004\n"
     ]
    },
    {
     "data": {
      "text/plain": [
       "-29062527.879929"
      ]
     },
     "execution_count": 56,
     "metadata": {},
     "output_type": "execute_result"
    }
   ],
   "source": [
    "import numpy as np\n",
    "x1 = 236.293609\n",
    "y1 = -29062528.673503\n",
    "x2 = 235.782469\n",
    "y2 = -29062527.879929\n",
    "xc = (x1+x2)/2\n",
    "yc = (y1+y2)/2\n",
    "#print(x2-x1)\n",
    "(y2-y1)\n",
    "[0,-1]\n",
    "p = (y1-y2)/np.sqrt(((x2-x1)**2+(y2-y1)**2))\n",
    "print(xc)\n",
    "print(yc+(y1-y2)/2)\n",
    "yc-(y1-y2)/2"
   ]
  },
  {
   "cell_type": "code",
   "execution_count": null,
   "metadata": {},
   "outputs": [],
   "source": []
  }
 ],
 "metadata": {
  "kernelspec": {
   "display_name": "Python 3",
   "language": "python",
   "name": "python3"
  },
  "language_info": {
   "codemirror_mode": {
    "name": "ipython",
    "version": 3
   },
   "file_extension": ".py",
   "mimetype": "text/x-python",
   "name": "python",
   "nbconvert_exporter": "python",
   "pygments_lexer": "ipython3",
   "version": "3.7.3"
  }
 },
 "nbformat": 4,
 "nbformat_minor": 2
}
